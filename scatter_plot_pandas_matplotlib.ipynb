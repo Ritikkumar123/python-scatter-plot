{
 "cells": [
  {
   "cell_type": "markdown",
   "metadata": {},
   "source": [
    "# ___How to plot a scatter plot in Python (pandas and matplotlib)___\n",
    "_Find the tutorial article here: https://data36.com/scatter-plot-pandas-matplotlib"
   ]
  },
  {
   "cell_type": "markdown",
   "metadata": {},
   "source": [
    "## Step #1: Import pandas, numpy and matplotlib!"
   ]
  },
  {
   "cell_type": "code",
   "execution_count": 1,
   "metadata": {},
   "outputs": [],
   "source": [
    "import numpy as np\n",
    "import pandas as pd\n",
    "import matplotlib.pyplot as plt\n",
    "%matplotlib inline"
   ]
  },
  {
   "cell_type": "markdown",
   "metadata": {},
   "source": [
    "## Step #2: Get the data!"
   ]
  },
  {
   "cell_type": "code",
   "execution_count": 2,
   "metadata": {},
   "outputs": [],
   "source": [
    "np.random.seed(0)\n",
    "mu = 170 #mean\n",
    "sigma = 6 #stddev\n",
    "sample = 100\n",
    "height = np.random.normal(mu, sigma, sample)"
   ]
  },
  {
   "cell_type": "code",
   "execution_count": 3,
   "metadata": {},
   "outputs": [],
   "source": [
    "weight = (height-100) * np.random.uniform(0.75, 1.25, 100)"
   ]
  },
  {
   "cell_type": "code",
   "execution_count": 4,
   "metadata": {},
   "outputs": [
    {
     "data": {
      "text/plain": [
       "array([180.58431408, 172.40094325, 175.8724279 , 183.4453592 ,\n",
       "       181.20534794, 164.13633272, 175.70053051, 169.09185675,\n",
       "       169.38068689, 172.46359101, 170.86426143, 178.72564104,\n",
       "       174.56622635, 170.7300501 , 172.6631794 , 172.00204596,\n",
       "       178.96447444, 168.76905042, 171.87840621, 164.87542556,\n",
       "       154.6820611 , 173.92171157, 175.18661719, 165.54700988,\n",
       "       183.61852774, 161.27380595, 170.2745511 , 168.8768969 ,\n",
       "       179.19667529, 178.81615262, 170.92968455, 172.26897512,\n",
       "       164.67328551, 158.11522119, 167.9125271 , 170.93809381,\n",
       "       177.38174408, 177.21427909, 167.6760391 , 168.1861835 ,\n",
       "       163.70868221, 161.47989238, 159.76237886, 181.70465237,\n",
       "       166.94208691, 167.37155419, 162.48322784, 174.66494213,\n",
       "       160.31661291, 168.72355832, 164.62720063, 172.32141499,\n",
       "       166.93516917, 162.9162069 , 169.83090663, 172.56999122,\n",
       "       170.39910333, 171.81483139, 166.19406744, 167.823553  ,\n",
       "       165.96523731, 167.84268103, 165.12112231, 159.64230439,\n",
       "       171.06455685, 167.58931438, 160.21880992, 172.77669353,\n",
       "       164.55620981, 170.31167237, 174.37454337, 170.77389746,\n",
       "       176.83640411, 162.59104508, 172.41404985, 165.89113945,\n",
       "       164.7752171 , 166.52690201, 168.13068481, 170.33699205,\n",
       "       163.00910096, 175.40495892, 172.79397464, 160.78253788,\n",
       "       178.92951316, 181.37533506, 177.07267743, 168.92045099,\n",
       "       163.57548427, 176.32671036, 167.58093832, 177.33467042,\n",
       "       171.24964987, 175.85983422, 172.13819838, 174.23943901,\n",
       "       170.06300012, 180.71522296, 170.76147256, 172.41193618])"
      ]
     },
     "execution_count": 4,
     "metadata": {},
     "output_type": "execute_result"
    }
   ],
   "source": [
    "height"
   ]
  },
  {
   "cell_type": "code",
   "execution_count": 5,
   "metadata": {},
   "outputs": [
    {
     "data": {
      "text/plain": [
       "array([77.51626973, 76.25242778, 57.63243821, 75.16652885, 87.70882186,\n",
       "       57.40450651, 80.1674458 , 66.6311054 , 56.73515698, 65.1549975 ,\n",
       "       73.34326729, 82.30264923, 77.33730302, 76.14800093, 78.18933299,\n",
       "       69.53303948, 94.6210212 , 64.2152282 , 69.57344273, 77.58852279,\n",
       "       63.05372031, 81.45760811, 60.1578232 , 79.29492539, 92.57579877,\n",
       "       76.55693329, 57.95711959, 81.55458715, 65.83195656, 83.37013275,\n",
       "       57.58851958, 84.84407415, 74.61094889, 60.12312355, 64.76081868,\n",
       "       55.65685777, 85.02043548, 75.42069496, 75.18996081, 80.67728975,\n",
       "       78.85610643, 72.41726798, 45.17181491, 75.98443059, 74.64011102,\n",
       "       56.31014469, 63.14044537, 58.02727798, 51.26901617, 52.17911055,\n",
       "       74.11763083, 62.33833639, 61.75946347, 76.38283251, 76.96812814,\n",
       "       55.58276884, 58.59648797, 76.17680685, 68.75010464, 58.93503294,\n",
       "       80.28675202, 71.70855903, 66.28134637, 62.32352347, 79.24131688,\n",
       "       61.23405997, 57.15430666, 62.21838725, 54.42711474, 85.93395532,\n",
       "       83.28278387, 70.43626381, 66.36416421, 54.90350282, 56.41160064,\n",
       "       63.73045782, 58.6797358 , 73.05796403, 63.96625935, 59.06913526,\n",
       "       48.03431796, 59.08919704, 79.32333114, 59.37532623, 80.37310283,\n",
       "       97.51496475, 95.96854519, 59.16465723, 68.75937214, 67.29429816,\n",
       "       51.3835107 , 87.32548444, 64.83779238, 71.43962938, 75.32371711,\n",
       "       86.52786481, 74.58142759, 95.75451333, 62.74922301, 83.20301034])"
      ]
     },
     "execution_count": 5,
     "metadata": {},
     "output_type": "execute_result"
    }
   ],
   "source": [
    "weight"
   ]
  },
  {
   "cell_type": "markdown",
   "metadata": {},
   "source": [
    "## Step #3: Prepare the data!"
   ]
  },
  {
   "cell_type": "code",
   "execution_count": 6,
   "metadata": {},
   "outputs": [],
   "source": [
    "gym = pd.DataFrame({'height': height, 'weight': weight})"
   ]
  },
  {
   "cell_type": "markdown",
   "metadata": {},
   "source": [
    "## Step #4a: Plot a scatter plot using pandas!"
   ]
  },
  {
   "cell_type": "code",
   "execution_count": 7,
   "metadata": {},
   "outputs": [
    {
     "data": {
      "text/plain": [
       "<matplotlib.axes._subplots.AxesSubplot at 0x121c7d290>"
      ]
     },
     "execution_count": 7,
     "metadata": {},
     "output_type": "execute_result"
    },
    {
     "data": {
      "image/png": "[encoded data removed]",
      "text/plain": [
       "<Figure size 432x288 with 1 Axes>"
      ]
     },
     "metadata": {
      "needs_background": "light"
     },
     "output_type": "display_data"
    }
   ],
   "source": [
    "gym.plot.scatter(x = 'weight', y = 'height')"
   ]
  },
  {
   "cell_type": "markdown",
   "metadata": {},
   "source": [
    "## Step #4b: Plot a scatter plot using matplotlib!"
   ]
  },
  {
   "cell_type": "code",
   "execution_count": 8,
   "metadata": {},
   "outputs": [
    {
     "data": {
      "text/plain": [
       "<matplotlib.collections.PathCollection at 0x122ba7450>"
      ]
     },
     "execution_count": 8,
     "metadata": {},
     "output_type": "execute_result"
    },
    {
     "data": {
      "image/png": "[encoded data removed]",
      "text/plain": [
       "<Figure size 432x288 with 1 Axes>"
      ]
     },
     "metadata": {
      "needs_background": "light"
     },
     "output_type": "display_data"
    }
   ],
   "source": [
    "x = gym.weight\n",
    "y = gym.height\n",
    "plt.scatter(x,y)"
   ]
  }
 ],
 "metadata": {
  "kernelspec": {
   "display_name": "Python 3",
   "language": "python",
   "name": "python3"
  },
  "language_info": {
   "codemirror_mode": {
    "name": "ipython",
    "version": 3
   },
   "file_extension": ".py",
   "mimetype": "text/x-python",
   "name": "python",
   "nbconvert_exporter": "python",
   "pygments_lexer": "ipython3",
   "version": "3.7.6"
  }
 },
 "nbformat": 4,
 "nbformat_minor": 4
}
